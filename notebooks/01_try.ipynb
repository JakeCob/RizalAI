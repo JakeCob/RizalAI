{
 "cells": [
  {
   "cell_type": "markdown",
   "metadata": {},
   "source": [
    "# **Experimenting with Building Production-Ready LLM Apps With LlamaIndex: Recursive Document Agents for Dynamic Retrieval**"
   ]
  },
  {
   "cell_type": "markdown",
   "metadata": {},
   "source": [
    "#### Combining recursive retrieval and document agents for advanced retrieval"
   ]
  },
  {
   "cell_type": "markdown",
   "metadata": {},
   "source": [
    "## **Importing the Libraries**"
   ]
  },
  {
   "cell_type": "code",
   "execution_count": 1,
   "metadata": {},
   "outputs": [],
   "source": [
    "from llama_index import (\n",
    "    VectorStoreIndex,\n",
    "    ListIndex,\n",
    "    SummaryIndex,\n",
    "    SimpleKeywordTableIndex,\n",
    "    SimpleDirectoryReader,\n",
    "    ServiceContext,\n",
    ")\n",
    "\n",
    "from llama_index.schema import IndexNode\n",
    "from llama_index.tools import QueryEngineTool, ToolMetadata\n",
    "from llama_index.llms import OpenAI\n",
    "from llama_index.agent import OpenAIAgent\n",
    "from llama_index.retrievers import RecursiveRetriever\n",
    "from llama_index.query_engine import RetrieverQueryEngine\n",
    "from llama_index.response_synthesizers import get_response_synthesizer\n",
    "\n",
    "import os\n",
    "import openai\n",
    "from dotenv import load_dotenv, find_dotenv\n",
    "_ = load_dotenv(find_dotenv()) # read local .env file\n",
    "\n",
    "openai.api_key  = os.getenv('OPENAI_API_KEY')"
   ]
  },
  {
   "cell_type": "markdown",
   "metadata": {},
   "source": [
    "## **Loading the Documents**"
   ]
  },
  {
   "cell_type": "code",
   "execution_count": 2,
   "metadata": {},
   "outputs": [],
   "source": [
    "titles = [\n",
    "    \"GEED-10013-LIFE-AND-WORKS-OF-RIZAL_(1)\", \n",
    "    \"UNIT 2_GEED-10013-LIFE-AND-WORKS-OF-RIZAL_2nd Sem.\", \n",
    "    \"UNIT 3 GEED-10013-LIFE-AND-WORKS-OF-RIZAL (1)\"\n",
    "    ]"
   ]
  },
  {
   "cell_type": "code",
   "execution_count": 3,
   "metadata": {},
   "outputs": [
    {
     "name": "stdout",
     "output_type": "stream",
     "text": [
      "loaded documents with 3 documents\n"
     ]
    }
   ],
   "source": [
    "dict_documents = {}\n",
    "\n",
    "for title in titles:\n",
    "    dict_documents[title] = SimpleDirectoryReader(input_files=[f\"../data/{title}.pdf\"]).load_data()\n",
    "\n",
    "print(f\"loaded documents with {len(dict_documents)} documents\")"
   ]
  },
  {
   "cell_type": "markdown",
   "metadata": {},
   "source": [
    "## **Creating Document Agents**"
   ]
  },
  {
   "cell_type": "code",
   "execution_count": 4,
   "metadata": {},
   "outputs": [],
   "source": [
    "service_context = ServiceContext.from_defaults(chunk_size_limit=512)"
   ]
  },
  {
   "cell_type": "code",
   "execution_count": 14,
   "metadata": {},
   "outputs": [],
   "source": [
    "# Build agents dictionary\n",
    "agents = {}\n",
    "\n",
    "for title in titles:\n",
    "\n",
    "    # build vector index\n",
    "    vector_index = VectorStoreIndex.from_documents(dict_documents[title], service_context=service_context)\n",
    "    \n",
    "    # build list index\n",
    "    list_index = ListIndex.from_documents(dict_documents[title], service_context=service_context)\n",
    "    \n",
    "    # define query engines\n",
    "    vector_query_engine = vector_index.as_query_engine()\n",
    "    list_query_engine = list_index.as_query_engine()\n",
    "\n",
    "    # define tools\n",
    "    query_engine_tools = [\n",
    "        QueryEngineTool(\n",
    "            query_engine=vector_query_engine,\n",
    "            metadata=ToolMetadata(\n",
    "                name=\"vector_tool\",\n",
    "                description=f\"Useful for retrieving specific context related to {title}\",\n",
    "            ),\n",
    "        ),\n",
    "        QueryEngineTool(\n",
    "            query_engine=list_query_engine,\n",
    "            metadata=ToolMetadata(\n",
    "                name=\"summary_tool\",\n",
    "                description=f\"Useful for summarization questions related to {title}\",\n",
    "            ),\n",
    "        ),\n",
    "    ]\n",
    "\n",
    "    # build agent\n",
    "    function_llm = OpenAI(model=\"gpt-4\")\n",
    "    agent = OpenAIAgent.from_tools(\n",
    "        query_engine_tools,\n",
    "        llm=function_llm,\n",
    "        verbose=True,\n",
    "    )\n",
    "\n",
    "    agents[title] = agent"
   ]
  },
  {
   "cell_type": "markdown",
   "metadata": {},
   "source": [
    "## **Creating Index Nodes**"
   ]
  },
  {
   "cell_type": "code",
   "execution_count": 16,
   "metadata": {},
   "outputs": [],
   "source": [
    "# define index nodes that link to the document agents\n",
    "nodes = []\n",
    "for title in titles:\n",
    "    doc_summary = (\n",
    "        f\"This content contains details about {title}. \"\n",
    "        f\"Use this index if you need to lookup specific facts about {title}.\\n\"\n",
    "        \"Do not use this index if you want to query multiple documents.\"\n",
    "    )\n",
    "    node = IndexNode(text=doc_summary, index_id=title)\n",
    "    nodes.append(node)"
   ]
  },
  {
   "cell_type": "markdown",
   "metadata": {},
   "source": [
    "## **Define recursive retriever and query engine**"
   ]
  },
  {
   "cell_type": "code",
   "execution_count": 17,
   "metadata": {},
   "outputs": [],
   "source": [
    "# define retriever\n",
    "vector_index = VectorStoreIndex(nodes)\n",
    "vector_retriever = vector_index.as_retriever(similarity_top_k=1)\n",
    "\n",
    "# define recursive retriever\n",
    "# note: can pass `agents` dict as `query_engine_dict` since every agent can be used as a query engine\n",
    "recursive_retriever = RecursiveRetriever(\n",
    "    \"vector\",\n",
    "    retriever_dict={\"vector\": vector_retriever},\n",
    "    query_engine_dict=agents,\n",
    "    verbose=True,\n",
    ")\n",
    "\n",
    "response_synthesizer = get_response_synthesizer(response_mode=\"compact\")\n",
    "\n",
    "# define query engine\n",
    "query_engine = RetrieverQueryEngine.from_args(\n",
    "    recursive_retriever,\n",
    "    response_synthesizer=response_synthesizer,\n",
    "    service_context=service_context,\n",
    ")"
   ]
  },
  {
   "cell_type": "markdown",
   "metadata": {},
   "source": [
    "GPT-3.5 turbo"
   ]
  },
  {
   "cell_type": "code",
   "execution_count": 13,
   "metadata": {},
   "outputs": [
    {
     "name": "stdout",
     "output_type": "stream",
     "text": [
      "\u001b[36;1m\u001b[1;3mRetrieving with query id None: Act like Dr. Jose Rizal and explain what is Rizal Law or Republic Act No. 1425, that is all about you, in tagalog.\n",
      "\u001b[0m\u001b[38;5;200m\u001b[1;3mRetrieved node with id, entering: UNIT 3 GEED-10013-LIFE-AND-WORKS-OF-RIZAL (1)\n",
      "\u001b[0m\u001b[36;1m\u001b[1;3mRetrieving with query id UNIT 3 GEED-10013-LIFE-AND-WORKS-OF-RIZAL (1): Act like Dr. Jose Rizal and explain what is Rizal Law or Republic Act No. 1425, that is all about you, in tagalog.\n",
      "\u001b[0m\u001b[32;1m\u001b[1;3mGot response: Ako si Dr. Jose Rizal at ipapaliwanag ko sa iyo ang Rizal Law o Republic Act No. 1425 sa Tagalog.\n",
      "\n",
      "Ang Rizal Law o Batas Rizal ay isang batas na ipinasa noong 1956 na naglalayong bigyang-pansin at pag-aralan ang mga akda, buhay, at mga kontribusyon ni Dr. Jose Rizal, ang ating pambansang bayani. Layunin ng batas na ito na palawakin ang kaalaman ng mga Pilipino tungkol sa buhay at mga gawa ni Rizal, at ang kanyang mga paniniwala at prinsipyo.\n",
      "\n",
      "Sa pamamagitan ng Rizal Law, ang mga paaralan sa Pilipinas ay kinakailangang magturo ng mga aralin tungkol kay Rizal bilang bahagi ng kanilang kurikulum. Ito ay upang matiyak na ang mga kabataan ay magkaroon ng sapat na kaalaman tungkol sa ating pambansang bayani at ang kanyang mga kontribusyon sa ating bansa.\n",
      "\n",
      "Ang Rizal Law ay naglalayong palawakin ang kamalayan ng mga Pilipino sa kanilang kasaysayan at kultura. Sa pamamagitan ng pag-aaral ng mga akda ni Rizal tulad ng \"Noli Me Tangere\" at \"El Filibusterismo,\" natututo ang mga mag-aaral tungkol sa mga suliranin at kahirapan na kinaharap ng mga Pilipino noong panahon ng kolonyalismo.\n",
      "\n",
      "Sa pangkalahatan, ang Rizal Law ay naglalayong itaguyod ang pagpapahalaga sa ating pambansang identidad at pagmamahal sa bayan. Ito ay isang mahalagang batas na nagpapakita ng kahalagahan ng pag-aaral ng ating kasaysayan at pagpapahalaga sa mga bayani na nag-alay ng kanilang buhay para sa kalayaan at pag-unlad ng ating bansa.\n",
      "\u001b[0mAko si Dr. Jose Rizal at ipapaliwanag ko sa iyo ang Rizal Law o Republic Act No. 1425 sa Tagalog.\n",
      "\n",
      "Ang Rizal Law o Batas Rizal ay isang batas na ipinasa noong 1956 na naglalayong bigyang-pansin at pag-aralan ang mga akda, buhay, at mga kontribusyon ni Dr. Jose Rizal, ang ating pambansang bayani. Layunin ng batas na ito na palawakin ang kaalaman ng mga Pilipino tungkol sa buhay at mga gawa ni Rizal, at ang kanyang mga paniniwala at prinsipyo.\n",
      "\n",
      "Sa pamamagitan ng Rizal Law, ang mga paaralan sa Pilipinas ay kinakailangang magturo ng mga aralin tungkol kay Rizal bilang bahagi ng kanilang kurikulum. Ito ay upang matiyak na ang mga kabataan ay magkaroon ng sapat na kaalaman tungkol sa ating pambansang bayani at ang kanyang mga kontribusyon sa ating bansa.\n",
      "\n",
      "Ang Rizal Law ay naglalayong palawakin ang kamalayan ng mga Pilipino sa kanilang kasaysayan at kultura. Sa pamamagitan ng pag-aaral ng mga akda ni Rizal tulad ng \"Noli Me Tangere\" at \"El Filibusterismo,\" natututo ang mga mag-aaral tungkol sa mga suliranin at kahirapan na kinaharap ng mga Pilipino noong panahon ng kolonyalismo.\n",
      "\n",
      "Sa pangkalahatan, ang Rizal Law ay naglalayong itaguyod ang pagpapahalaga sa ating pambansang identidad at pagmamahal sa bayan. Ito ay isang mahalagang batas na nagpapakita ng kahalagahan ng pag-aaral ng ating kasaysayan at pagpapahalaga sa mga bayani na nag-alay ng kanilang buhay para sa kalayaan at pag-unlad ng ating bansa.\n"
     ]
    }
   ],
   "source": [
    "response = query_engine.query(\"Act like Dr. Jose Rizal and explain what is Rizal Law or Republic Act No. 1425, that is all about you, in tagalog.\")\n",
    "print(response)\n"
   ]
  },
  {
   "cell_type": "markdown",
   "metadata": {},
   "source": [
    "GPT-4"
   ]
  },
  {
   "cell_type": "code",
   "execution_count": 18,
   "metadata": {},
   "outputs": [
    {
     "name": "stdout",
     "output_type": "stream",
     "text": [
      "\u001b[36;1m\u001b[1;3mRetrieving with query id None: Act like Dr. Jose Rizal and explain what is Rizal Law or Republic Act No. 1425, that is all about you, in tagalog.\n",
      "\u001b[0m\u001b[38;5;200m\u001b[1;3mRetrieved node with id, entering: UNIT 3 GEED-10013-LIFE-AND-WORKS-OF-RIZAL (1)\n",
      "\u001b[0m\u001b[36;1m\u001b[1;3mRetrieving with query id UNIT 3 GEED-10013-LIFE-AND-WORKS-OF-RIZAL (1): Act like Dr. Jose Rizal and explain what is Rizal Law or Republic Act No. 1425, that is all about you, in tagalog.\n",
      "\u001b[0m\u001b[32;1m\u001b[1;3mGot response: Bilang si Dr. Jose Rizal, ako ay nagagalak na ipaliwanag ang batas na may kaugnayan sa aking buhay at mga gawa, ang Rizal Law o Republic Act No. 1425.\n",
      "\n",
      "Ang Rizal Law o Republic Act No. 1425 ay isang batas na ipinasa noong Hunyo 12, 1956. Layunin ng batas na ito na ituro ang aking mga nobela, ang \"Noli Me Tangere\" at \"El Filibusterismo\", sa lahat ng paaralan sa buong bansa, mula sa elementarya hanggang kolehiyo. Ito ay upang maipakita at maipaintindi sa mga mag-aaral ang mga aral na makukuha mula sa aking mga akda, lalo na ang mga isyu ng panlipunang katarungan at kalayaan.\n",
      "\n",
      "Ang batas na ito ay naglalayong ipaalam sa mga Pilipino ang aking mga kontribusyon sa bansa, at ang aking mga pananaw at adhikain para sa kalayaan at kasarinlan ng Pilipinas. Sa pamamagitan ng pag-aaral ng aking mga akda, inaasahan na magkakaroon ng mas malalim na pang-unawa at pagpapahalaga ang mga Pilipino sa ating kasaysayan at kultura.\n",
      "\n",
      "Sa kabuuan, ang Rizal Law ay isang patunay na ang aking mga gawa at adhikain ay patuloy na nagbibigay inspirasyon at gabay sa mga Pilipino, at ito ay isang mahalagang bahagi ng ating edukasyon at pagkakakilanlan bilang isang bansa.\n",
      "\u001b[0mAng Rizal Law o Republic Act No. 1425 ay isang batas na ipinasa noong Hunyo 12, 1956. Layunin ng batas na ito na ituro ang aking mga nobela, ang \"Noli Me Tangere\" at \"El Filibusterismo\", sa lahat ng paaralan sa buong bansa, mula sa elementarya hanggang kolehiyo. Ito ay upang maipakita at maipaintindi sa mga mag-aaral ang mga aral na makukuha mula sa aking mga akda, lalo na ang mga isyu ng panlipunang katarungan at kalayaan. Ang batas na ito ay naglalayong ipaalam sa mga Pilipino ang aking mga kontribusyon sa bansa, at ang aking mga pananaw at adhikain para sa kalayaan at kasarinlan ng Pilipinas. Sa pamamagitan ng pag-aaral ng aking mga akda, inaasahan na magkakaroon ng mas malalim na pang-unawa at pagpapahalaga ang mga Pilipino sa ating kasaysayan at kultura. Sa kabuuan, ang Rizal Law ay isang patunay na ang aking mga gawa at adhikain ay patuloy na nagbibigay inspirasyon at gabay sa mga Pilipino, at ito ay isang mahalagang bahagi ng ating edukasyon at pagkakakilanlan bilang isang bansa.\n"
     ]
    }
   ],
   "source": [
    "response = query_engine.query(\"Act like Dr. Jose Rizal and explain what is Rizal Law or Republic Act No. 1425, that is all about you, in tagalog.\")\n",
    "print(response)"
   ]
  },
  {
   "cell_type": "code",
   "execution_count": null,
   "metadata": {},
   "outputs": [],
   "source": []
  },
  {
   "cell_type": "code",
   "execution_count": null,
   "metadata": {},
   "outputs": [],
   "source": []
  },
  {
   "cell_type": "code",
   "execution_count": null,
   "metadata": {},
   "outputs": [],
   "source": []
  },
  {
   "cell_type": "code",
   "execution_count": 1,
   "metadata": {},
   "outputs": [
    {
     "name": "stdout",
     "output_type": "stream",
     "text": [
      "hello world\n"
     ]
    }
   ],
   "source": [
    "titles = [\n",
    "    \"DevOps Self-Service Pipeline Architecture and Its 3–2–1 Rule\", \n",
    "    \"DevOps Self-Service Centric Terraform Project Structure\", \n",
    "    \"DevOps Self-Service Centric Pipeline Security and Guardrails\"\n",
    "    ]\n",
    "\n",
    "documents = {}\n",
    "for title in titles:\n",
    "    documents[title] = SimpleDirectoryReader(input_files=[f\"../data/{title}.pdf\"]).load_data()\n",
    "print(f\"loaded documents with {len(documents)} documents\")"
   ]
  },
  {
   "cell_type": "code",
   "execution_count": null,
   "metadata": {},
   "outputs": [],
   "source": [
    "# Build agents dictionary\n",
    "agents = {}\n",
    "\n",
    "for title in titles:\n",
    "\n",
    "    # build vector index\n",
    "    vector_index = VectorStoreIndex.from_documents(documents[title], service_context=service_context)\n",
    "    \n",
    "    # build list index\n",
    "    list_index = ListIndex.from_documents(documents[title], service_context=service_context)\n",
    "    \n",
    "    # define query engines\n",
    "    vector_query_engine = vector_index.as_query_engine()\n",
    "    list_query_engine = list_index.as_query_engine()\n",
    "\n",
    "    # define tools\n",
    "    query_engine_tools = [\n",
    "        QueryEngineTool(\n",
    "            query_engine=vector_query_engine,\n",
    "            metadata=ToolMetadata(\n",
    "                name=\"vector_tool\",\n",
    "                description=f\"Useful for retrieving specific context related to {title}\",\n",
    "            ),\n",
    "        ),\n",
    "        QueryEngineTool(\n",
    "            query_engine=list_query_engine,\n",
    "            metadata=ToolMetadata(\n",
    "                name=\"summary_tool\",\n",
    "                description=f\"Useful for summarization questions related to {title}\",\n",
    "            ),\n",
    "        ),\n",
    "    ]\n",
    "\n",
    "    # build agent\n",
    "    function_llm = OpenAI(model=\"gpt-3.5-turbo-0613\")\n",
    "    agent = OpenAIAgent.from_tools(\n",
    "        query_engine_tools,\n",
    "        llm=function_llm,\n",
    "        verbose=True,\n",
    "    )\n",
    "\n",
    "    agents[title] = agent"
   ]
  }
 ],
 "metadata": {
  "kernelspec": {
   "display_name": "rizal-ai",
   "language": "python",
   "name": "python3"
  },
  "language_info": {
   "codemirror_mode": {
    "name": "ipython",
    "version": 3
   },
   "file_extension": ".py",
   "mimetype": "text/x-python",
   "name": "python",
   "nbconvert_exporter": "python",
   "pygments_lexer": "ipython3",
   "version": "3.9.18"
  },
  "orig_nbformat": 4
 },
 "nbformat": 4,
 "nbformat_minor": 2
}
