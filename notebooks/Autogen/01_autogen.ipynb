{
 "cells": [
  {
   "cell_type": "markdown",
   "metadata": {},
   "source": [
    "# **AutoGen Experimentation**"
   ]
  },
  {
   "cell_type": "markdown",
   "metadata": {},
   "source": [
    "## **Installing AutoGen**"
   ]
  },
  {
   "cell_type": "code",
   "execution_count": 1,
   "metadata": {},
   "outputs": [],
   "source": [
    "!pip install -qqq pyautogen --progress-bar off"
   ]
  },
  {
   "cell_type": "markdown",
   "metadata": {},
   "source": [
    "## **Importing the Libraries**"
   ]
  },
  {
   "cell_type": "code",
   "execution_count": 1,
   "metadata": {},
   "outputs": [],
   "source": [
    "from autogen import AssistantAgent, UserProxyAgent\n",
    "import os\n",
    "import openai\n",
    "from dotenv import load_dotenv, find_dotenv\n",
    "_ = load_dotenv(find_dotenv()) # read local .env file"
   ]
  },
  {
   "cell_type": "markdown",
   "metadata": {},
   "source": [
    "## **Setting Config**"
   ]
  },
  {
   "cell_type": "code",
   "execution_count": 2,
   "metadata": {},
   "outputs": [],
   "source": [
    "gpt_config_list = [\n",
    "    {\n",
    "        \"model\": \"gpt-4\",\n",
    "        # \"model\": \"gpt-3.5-turbo\",\n",
    "        \"api_key\": os.getenv('OPENAI_API_KEY'),\n",
    "    }\n",
    "]\n",
    "\n",
    "llm_config = {\n",
    "    \"config_list\": gpt_config_list,\n",
    "    \"use_cache\": False, # Set to false to not repeat the previous requests\n",
    "    \"temperature\": 0,\n",
    "}"
   ]
  },
  {
   "cell_type": "markdown",
   "metadata": {},
   "source": [
    "## **Creating an Assistant Agent**"
   ]
  },
  {
   "cell_type": "code",
   "execution_count": 3,
   "metadata": {},
   "outputs": [],
   "source": [
    "assistant = AssistantAgent(\n",
    "    name = \"assistant\", \n",
    "    llm_config = llm_config,    \n",
    ")"
   ]
  },
  {
   "cell_type": "markdown",
   "metadata": {},
   "source": [
    "## **Is Termination Message**"
   ]
  },
  {
   "cell_type": "code",
   "execution_count": 4,
   "metadata": {},
   "outputs": [],
   "source": [
    "def is_termination_msg(data):\n",
    "    has_content = \"content\" in data and data[\"content\"] is not None\n",
    "    return has_content and \"TERMINATE\" in data[\"content\"]"
   ]
  },
  {
   "cell_type": "markdown",
   "metadata": {},
   "source": [
    "## **Creating User**"
   ]
  },
  {
   "cell_type": "code",
   "execution_count": 5,
   "metadata": {},
   "outputs": [],
   "source": [
    "user_proxy = UserProxyAgent(\n",
    "    name=\"user_proxy\",  \n",
    "    human_input_mode=\"Never\", # Interaction between user and assistant is disabled\n",
    "    max_consecutive_auto_reply=10, # Maximum number of replies between user and assistant\n",
    "    is_termination_msg=is_termination_msg, # Terminate the conversation if the assistant sends a message containing \"TERMINATE\"\n",
    "    code_execution_config={\"working_dir\": \"coding\"}, # Where to save the code\n",
    ")"
   ]
  },
  {
   "cell_type": "markdown",
   "metadata": {},
   "source": [
    "## **Initiating Chat**"
   ]
  },
  {
   "cell_type": "code",
   "execution_count": 8,
   "metadata": {},
   "outputs": [
    {
     "name": "stdout",
     "output_type": "stream",
     "text": [
      "\u001b[33muser_proxy\u001b[0m (to assistant):\n",
      "\n",
      "Act like Dr. Jose Rizal and explain what is Rizal Law or Republic Act No. 1425, that is all about you, in tagalog.\n",
      "\n",
      "--------------------------------------------------------------------------------\n",
      "\u001b[33massistant\u001b[0m (to user_proxy):\n",
      "\n",
      "Bilang isang AI na nagpapanggap na si Dr. Jose Rizal, ipapaliwanag ko ang Rizal Law o Republic Act No. 1425 sa Tagalog.\n",
      "\n",
      "Ang Rizal Law o Republic Act No. 1425 ay isang batas na ipinasa noong Hunyo 12, 1956. Ito ay nag-uutos na ang mga akda, buhay, at mga kontribusyon ko sa bansa ay dapat ituro sa lahat ng mga paaralan sa Pilipinas, mula elementarya hanggang kolehiyo. \n",
      "\n",
      "Ang layunin ng batas na ito ay upang maipabatid sa mga mag-aaral ang aking mga ideya at mga prinsipyo na nagdulot ng malaking impluwensya sa pagkakabuo ng ating bansa. Ito rin ay naglalayong magbigay ng inspirasyon at gabay sa mga mag-aaral tungkol sa kahalagahan ng pagmamahal sa bayan, pagpapahalaga sa kalayaan, at pagtataguyod ng demokrasya.\n",
      "\n",
      "Ang mga aklat na \"Noli Me Tangere\" at \"El Filibusterismo\" ay ilan sa mga pangunahing akda na itinuturo sa mga paaralan bilang bahagi ng kurikulum dahil sa Rizal Law. Ang mga ito ay naglalarawan ng mga pangyayari at mga isyu na kinaharap ng Pilipinas noong panahon ng Kastila.\n",
      "\n",
      "Sa kabuuan, ang Rizal Law ay isang mahalagang batas na naglalayong ituro ang aking mga kontribusyon at mga ideya upang patuloy na maalala at maipasa sa susunod na henerasyon ng mga Pilipino.\n",
      "\n",
      "TERMINATE\n",
      "\n",
      "--------------------------------------------------------------------------------\n"
     ]
    }
   ],
   "source": [
    "user_proxy.initiate_chat(\n",
    "    assistant,\n",
    "    message=\"Act like Dr. Jose Rizal and explain what is Rizal Law or Republic Act No. 1425, that is all about you, in tagalog.\",\n",
    ")"
   ]
  },
  {
   "cell_type": "code",
   "execution_count": null,
   "metadata": {},
   "outputs": [
    {
     "name": "stdout",
     "output_type": "stream",
     "text": [
      "\u001b[33muser_proxy\u001b[0m (to assistant):\n",
      "\n",
      "Act like Dr. Jose Rizal and explain what is Rizal Law or Republic Act No. 1425, that is all about you, in tagalog.\n",
      "\n",
      "--------------------------------------------------------------------------------\n"
     ]
    }
   ],
   "source": [
    "user_proxy.send(\n",
    "    recipient=assistant,\n",
    "    message=\"Act like Dr. Jose Rizal and explain what is Rizal Law or Republic Act No. 1425, that is all about you, in tagalog.\",\n",
    ")"
   ]
  },
  {
   "cell_type": "code",
   "execution_count": null,
   "metadata": {},
   "outputs": [],
   "source": []
  }
 ],
 "metadata": {
  "kernelspec": {
   "display_name": "rizal-ai",
   "language": "python",
   "name": "python3"
  },
  "language_info": {
   "codemirror_mode": {
    "name": "ipython",
    "version": 3
   },
   "file_extension": ".py",
   "mimetype": "text/x-python",
   "name": "python",
   "nbconvert_exporter": "python",
   "pygments_lexer": "ipython3",
   "version": "3.9.18"
  }
 },
 "nbformat": 4,
 "nbformat_minor": 2
}
